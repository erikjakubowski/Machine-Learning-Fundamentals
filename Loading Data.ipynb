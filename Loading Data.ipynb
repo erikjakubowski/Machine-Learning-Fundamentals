{
 "cells": [
  {
   "cell_type": "markdown",
   "metadata": {},
   "source": [
    "This chapter is about loading data. We used make_regression, classification, and blob to simulate data features and targets. Also connected to MySQL and read JSON."
   ]
  },
  {
   "cell_type": "code",
   "execution_count": 52,
   "metadata": {},
   "outputs": [],
   "source": [
    "from sklearn import datasets\n",
    "from sklearn.datasets import make_regression\n",
    "from sklearn.datasets import make_classification\n",
    "from sklearn.datasets import make_blobs\n",
    "import matplotlib.pyplot as plt\n",
    "import pandas as pd\n",
    "from sqlalchemy import create_engine"
   ]
  },
  {
   "cell_type": "code",
   "execution_count": 23,
   "metadata": {},
   "outputs": [
    {
     "data": {
      "text/plain": [
       "array([ 0.,  0.,  5., 13.,  9.,  1.,  0.,  0.,  0.,  0., 13., 15., 10.,\n",
       "       15.,  5.,  0.,  0.,  3., 15.,  2.,  0., 11.,  8.,  0.,  0.,  4.,\n",
       "       12.,  0.,  0.,  8.,  8.,  0.,  0.,  5.,  8.,  0.,  0.,  9.,  8.,\n",
       "        0.,  0.,  4., 11.,  0.,  1., 12.,  7.,  0.,  0.,  2., 14.,  5.,\n",
       "       10., 12.,  0.,  0.,  0.,  0.,  6., 13., 10.,  0.,  0.,  0.])"
      ]
     },
     "execution_count": 23,
     "metadata": {},
     "output_type": "execute_result"
    }
   ],
   "source": [
    "digits = datasets.load_digits()\n",
    "\n",
    "features = digits.data\n",
    "\n",
    "target = digits.target\n",
    "\n",
    "features[0]\n",
    "\n",
    "#sklearn.utils.Bunch\n",
    "#type(digits)\n",
    "\n",
    "#numpy.ndarray\n",
    "#type(features)\n",
    "\n",
    "#numpy.ndarray\n",
    "#type(target)"
   ]
  },
  {
   "cell_type": "code",
   "execution_count": 24,
   "metadata": {},
   "outputs": [
    {
     "name": "stdout",
     "output_type": "stream",
     "text": [
      "Feature matrix =  [[ 0.19829972 -0.20075807  0.18656139 -0.22232814  0.41005165]\n",
      " [-1.09491185  1.2245077   0.40349164 -0.44712856  0.59357852]\n",
      " [-1.89636092  0.98633519  0.2135339  -0.17470316  2.19069973]\n",
      " [-0.11044703  0.31354772  0.50318481 -1.27255876  1.29322588]\n",
      " [ 1.09899633  1.1181334   0.6743961  -0.53223402 -0.72239191]]\n",
      "Target Vector =  [ 3.35625132 20.59244372 14.7538029   1.6742393  31.78477939]\n"
     ]
    }
   ],
   "source": [
    "# When we want a dataset designed to be used with linear regression, make_regression\n",
    "\n",
    "# Generate features matrix, target vector, and the true coefficients\n",
    "features_lr, target_lr, coeffficients_lr = make_regression(n_samples=100, n_features=5, n_informative=3, n_targets=1, \n",
    "                                                           noise=0.0, coef=True, random_state=1)\n",
    "\n",
    "print(\"Feature matrix = \", features_lr[:5])\n",
    "print(\"Target Vector = \", target_lr[:5])"
   ]
  },
  {
   "cell_type": "code",
   "execution_count": 29,
   "metadata": {},
   "outputs": [
    {
     "data": {
      "text/plain": [
       "array([1, 1, 0, 1, 1])"
      ]
     },
     "execution_count": 29,
     "metadata": {},
     "output_type": "execute_result"
    }
   ],
   "source": [
    "feature_cl, target_cl = make_classification(n_samples=100, n_features=5, n_informative=5, n_redundant=0, \n",
    "                                            n_classes= 2, weights=[.25,.75], random_state=1)\n",
    "\n",
    "feature_cl[:5]\n",
    "target_cl[:5]\n"
   ]
  },
  {
   "cell_type": "code",
   "execution_count": 41,
   "metadata": {},
   "outputs": [
    {
     "name": "stdout",
     "output_type": "stream",
     "text": [
      "Feature Matrix\n",
      " [[ -1.22685609   3.25572052]\n",
      " [ -9.57463218  -4.38310652]\n",
      " [-10.71976941  -4.20558148]]\n",
      "Target Vector\n",
      " [0 1 1]\n"
     ]
    }
   ],
   "source": [
    "# Generate feature matrix and target vector\n",
    "features_bl, target_bl = make_blobs(n_samples = 100,\n",
    "                              n_features = 2,\n",
    "                              centers = 3,\n",
    "                              cluster_std = 0.5,\n",
    "                              shuffle = True,\n",
    "                              random_state = 1)\n",
    "\n",
    "# View feature matrix and target vector\n",
    "print('Feature Matrix\\n', features_bl[:3])\n",
    "print('Target Vector\\n', target_bl[:3])"
   ]
  },
  {
   "cell_type": "code",
   "execution_count": 47,
   "metadata": {},
   "outputs": [
    {
     "data": {
      "image/png": "[encoded data removed]",
      "text/plain": [
       "<Figure size 432x288 with 1 Axes>"
      ]
     },
     "metadata": {
      "needs_background": "light"
     },
     "output_type": "display_data"
    }
   ],
   "source": [
    "# View scatterplot\n",
    "plt.scatter(features_bl[:,0], features_bl[:,1], c=target_bl)\n",
    "plt.show()"
   ]
  },
  {
   "cell_type": "code",
   "execution_count": 20,
   "metadata": {},
   "outputs": [
    {
     "data": {
      "text/html": [
       "<div>\n",
       "<style scoped>\n",
       "    .dataframe tbody tr th:only-of-type {\n",
       "        vertical-align: middle;\n",
       "    }\n",
       "\n",
       "    .dataframe tbody tr th {\n",
       "        vertical-align: top;\n",
       "    }\n",
       "\n",
       "    .dataframe thead th {\n",
       "        text-align: right;\n",
       "    }\n",
       "</style>\n",
       "<table border=\"1\" class=\"dataframe\">\n",
       "  <thead>\n",
       "    <tr style=\"text-align: right;\">\n",
       "      <th></th>\n",
       "      <th>index</th>\n",
       "      <th>Departure Delay Mean</th>\n",
       "      <th>Departure Delay Mode</th>\n",
       "      <th>Departure Delay Median</th>\n",
       "      <th>Arrival Delay Mean</th>\n",
       "      <th>Arrival Delay Median</th>\n",
       "      <th>Arrival Delay Mode</th>\n",
       "    </tr>\n",
       "  </thead>\n",
       "  <tbody>\n",
       "    <tr>\n",
       "      <th>0</th>\n",
       "      <td>DL</td>\n",
       "      <td>6</td>\n",
       "      <td>-3</td>\n",
       "      <td>-2</td>\n",
       "      <td>-4</td>\n",
       "      <td>-12</td>\n",
       "      <td>-15</td>\n",
       "    </tr>\n",
       "    <tr>\n",
       "      <th>1</th>\n",
       "      <td>NK</td>\n",
       "      <td>9</td>\n",
       "      <td>-7</td>\n",
       "      <td>-4</td>\n",
       "      <td>4</td>\n",
       "      <td>-8</td>\n",
       "      <td>-15</td>\n",
       "    </tr>\n",
       "  </tbody>\n",
       "</table>\n",
       "</div>"
      ],
      "text/plain": [
       "  index  Departure Delay Mean  Departure Delay Mode  Departure Delay Median  \\\n",
       "0    DL                     6                    -3                      -2   \n",
       "1    NK                     9                    -7                      -4   \n",
       "\n",
       "   Arrival Delay Mean  Arrival Delay Median  Arrival Delay Mode  \n",
       "0                  -4                   -12                 -15  \n",
       "1                   4                    -8                 -15  "
      ]
     },
     "execution_count": 20,
     "metadata": {},
     "output_type": "execute_result"
    }
   ],
   "source": [
    "# Create URL\n",
    "url = 'file:///Users/erikjakubowski/Desktop/simulated_json'\n",
    "\n",
    "# Load data\n",
    "dataframe = pd.read_json(url, orient='columns')\n",
    "\n",
    "# View the first two rows\n",
    "dataframe.head(2)"
   ]
  },
  {
   "cell_type": "code",
   "execution_count": 55,
   "metadata": {},
   "outputs": [
    {
     "data": {
      "text/html": [
       "<div>\n",
       "<style scoped>\n",
       "    .dataframe tbody tr th:only-of-type {\n",
       "        vertical-align: middle;\n",
       "    }\n",
       "\n",
       "    .dataframe tbody tr th {\n",
       "        vertical-align: top;\n",
       "    }\n",
       "\n",
       "    .dataframe thead th {\n",
       "        text-align: right;\n",
       "    }\n",
       "</style>\n",
       "<table border=\"1\" class=\"dataframe\">\n",
       "  <thead>\n",
       "    <tr style=\"text-align: right;\">\n",
       "      <th></th>\n",
       "      <th>author</th>\n",
       "      <th>word1</th>\n",
       "      <th>word2</th>\n",
       "      <th>source</th>\n",
       "      <th>id</th>\n",
       "    </tr>\n",
       "  </thead>\n",
       "  <tbody>\n",
       "    <tr>\n",
       "      <th>0</th>\n",
       "      <td>289</td>\n",
       "      <td>maudie</td>\n",
       "      <td>atticus</td>\n",
       "      <td>AC</td>\n",
       "      <td>1</td>\n",
       "    </tr>\n",
       "    <tr>\n",
       "      <th>1</th>\n",
       "      <td>312</td>\n",
       "      <td>limpet</td>\n",
       "      <td>mine</td>\n",
       "      <td>AC</td>\n",
       "      <td>2</td>\n",
       "    </tr>\n",
       "  </tbody>\n",
       "</table>\n",
       "</div>"
      ],
      "text/plain": [
       "   author   word1    word2 source  id\n",
       "0     289  maudie  atticus     AC   1\n",
       "1     312  limpet     mine     AC   2"
      ]
     },
     "execution_count": 55,
     "metadata": {},
     "output_type": "execute_result"
    }
   ],
   "source": [
    "# Create a connection to the database\n",
    "database_connection = create_engine('mysql+pymysql://localhost:3306/csv_db?user=root')\n",
    "\n",
    "# Load data\n",
    "dataframe = pd.read_sql_query('SELECT * FROM wordassociation_ac', database_connection)\n",
    "\n",
    "# View first two rows\n",
    "dataframe.head(2)"
   ]
  },
  {
   "cell_type": "code",
   "execution_count": null,
   "metadata": {},
   "outputs": [],
   "source": []
  }
 ],
 "metadata": {
  "kernelspec": {
   "display_name": "Python 3",
   "language": "python",
   "name": "python3"
  },
  "language_info": {
   "codemirror_mode": {
    "name": "ipython",
    "version": 3
   },
   "file_extension": ".py",
   "mimetype": "text/x-python",
   "name": "python",
   "nbconvert_exporter": "python",
   "pygments_lexer": "ipython3",
   "version": "3.6.0"
  }
 },
 "nbformat": 4,
 "nbformat_minor": 2
}
