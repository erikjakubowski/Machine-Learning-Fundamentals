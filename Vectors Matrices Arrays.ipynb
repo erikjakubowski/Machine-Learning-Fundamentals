{
 "cells": [
  {
   "cell_type": "code",
   "execution_count": 1,
   "metadata": {},
   "outputs": [],
   "source": [
    "import numpy as np\n",
    "from scipy import sparse"
   ]
  },
  {
   "cell_type": "markdown",
   "metadata": {},
   "source": [
    "This chapter is explictly for showing array and matrix creation. After creation many manipulation stratigies used for ML are applied include transposing, variance/standard deviation, determinant, trace, rank, and Eigenvectors/values. Using industry standard libraries scipy and numpy."
   ]
  },
  {
   "cell_type": "code",
   "execution_count": 2,
   "metadata": {},
   "outputs": [],
   "source": [
    "#create vectors\n",
    "vector_row = np.array([1,2,3,4,5,6,7,8,9])\n",
    "vector_column = np.array([[1],\n",
    "                         [2],\n",
    "                         [3],\n",
    "                         [4],\n",
    "                         [5],\n",
    "                         [6],\n",
    "                         [7],\n",
    "                         [8],\n",
    "                         [9]])"
   ]
  },
  {
   "cell_type": "code",
   "execution_count": 3,
   "metadata": {},
   "outputs": [
    {
     "data": {
      "text/plain": [
       "array([1, 2, 3])"
      ]
     },
     "execution_count": 3,
     "metadata": {},
     "output_type": "execute_result"
    }
   ],
   "source": [
    "#selecting elements\n",
    "vector_row[2]\n",
    "vector_column[6]\n",
    "\n",
    "#select all\n",
    "vector_column[:]\n",
    "\n",
    "#everything including the third\n",
    "vector_row[:3]"
   ]
  },
  {
   "cell_type": "code",
   "execution_count": 4,
   "metadata": {},
   "outputs": [],
   "source": [
    "#create matrix\n",
    "matrix = np.mat([[1,2],\n",
    "               [2,3],\n",
    "               [3,4],\n",
    "               [4,5],\n",
    "               [5,6],\n",
    "               [6,7],\n",
    "               [7,8],\n",
    "               [8,9],\n",
    "                [9,9]])"
   ]
  },
  {
   "cell_type": "code",
   "execution_count": 5,
   "metadata": {},
   "outputs": [
    {
     "data": {
      "text/plain": [
       "matrix([[11, 12],\n",
       "        [12, 13],\n",
       "        [13, 14],\n",
       "        [14, 15],\n",
       "        [15, 16],\n",
       "        [16, 17],\n",
       "        [17, 18],\n",
       "        [18, 19],\n",
       "        [19, 19]])"
      ]
     },
     "execution_count": 5,
     "metadata": {},
     "output_type": "execute_result"
    }
   ],
   "source": [
    "#selecting elements everything after third and in second column\n",
    "matrix[3:,1]\n",
    "\n",
    "#select first four rows\n",
    "matrix[:4,:]\n",
    "\n",
    "#add ten to each element\n",
    "matrix + 10"
   ]
  },
  {
   "cell_type": "code",
   "execution_count": 6,
   "metadata": {},
   "outputs": [
    {
     "name": "stdout",
     "output_type": "stream",
     "text": [
      "  (0, 1)\t1\n",
      "  (2, 0)\t5\n",
      "  (3, 1)\t5\n",
      "  (4, 0)\t5\n"
     ]
    }
   ],
   "source": [
    "#create sparse matrix\n",
    "zeros_matrix = np.array([[0, 1],\n",
    "                        [0,0],\n",
    "                        [5,0],\n",
    "                        [0,5],\n",
    "                        [5,0]])\n",
    "\n",
    "#csr = compressed sparse row\n",
    "sparse_matrix = sparse.csr_matrix(zeros_matrix)\n",
    "#print coordinates of non-zero values in matrix and the value\n",
    "print(sparse_matrix)"
   ]
  },
  {
   "cell_type": "code",
   "execution_count": 7,
   "metadata": {},
   "outputs": [
    {
     "data": {
      "text/plain": [
       "2"
      ]
     },
     "execution_count": 7,
     "metadata": {},
     "output_type": "execute_result"
    }
   ],
   "source": [
    "#size shape and ndim(dimensions)\n",
    "shape_matrix = np.array([[1, 2, 3, 4],\n",
    "                   [5, 6, 7, 8],\n",
    "                   [9, 10, 11, 12]])\n",
    "\n",
    "shape_matrix.shape\n",
    "shape_matrix.size\n",
    "shape_matrix.ndim"
   ]
  },
  {
   "cell_type": "code",
   "execution_count": 8,
   "metadata": {},
   "outputs": [
    {
     "data": {
      "text/plain": [
       "array([[102, 104, 104],\n",
       "       [112, 123, 103],\n",
       "       [107, 101, 114]])"
      ]
     },
     "execution_count": 8,
     "metadata": {},
     "output_type": "execute_result"
    }
   ],
   "source": [
    "#create function and vectorize\n",
    "function_matrix = np.array([[2,4,4],\n",
    "                          [12,23,3],\n",
    "                          [7,1,14]])\n",
    "\n",
    "#function to add 100\n",
    "add_100 = lambda x: x + 100 \n",
    "\n",
    "#np vectorize\n",
    "vectorize_adding = np.vectorize(add_100)\n",
    "\n",
    "#add 100\n",
    "vectorize_adding(function_matrix)\n",
    "\n",
    "\n",
    "#NumPy’s vectorize class converts a function into a function that can apply to all elements in an array or slice of an array.\n",
    "#for more complex functions instead of the simple matrix + 10 in cells above"
   ]
  },
  {
   "cell_type": "code",
   "execution_count": 9,
   "metadata": {},
   "outputs": [
    {
     "data": {
      "text/plain": [
       "array([[3, 6, 9]])"
      ]
     },
     "execution_count": 9,
     "metadata": {},
     "output_type": "execute_result"
    }
   ],
   "source": [
    "# Create matrix\n",
    "matrix = np.array([[[1, 2, 3],\n",
    "                   [4, 5, 6],\n",
    "                   [7, 8, 9]]])\n",
    "\n",
    "\n",
    "#finding min and max\n",
    "np.max(matrix)\n",
    "np.min(matrix)\n",
    "\n",
    "#min and max for dimension zero\n",
    "np.max(matrix, axis=0)\n",
    "\n",
    "#min and max for dimension one\n",
    "np.max(matrix, axis=1)\n",
    "\n",
    "#min and max for dimension two\n",
    "np.max(matrix, axis=2)"
   ]
  },
  {
   "cell_type": "code",
   "execution_count": 10,
   "metadata": {},
   "outputs": [
    {
     "data": {
      "text/plain": [
       "array([2., 5., 8.])"
      ]
     },
     "execution_count": 10,
     "metadata": {},
     "output_type": "execute_result"
    }
   ],
   "source": [
    "# mean variance and standard deviation\n",
    "# Create matrix\n",
    "matrix = np.array([[1, 2, 3],\n",
    "                   [4, 5, 6],\n",
    "                   [7, 8, 9]])\n",
    "\n",
    "np.mean(matrix)\n",
    "np.var(matrix)\n",
    "np.std(matrix)\n",
    "\n",
    "#find the mean of a each column\n",
    "np.mean(matrix, axis=0)\n",
    "\n",
    "#find mean of each row\n",
    "np.mean(matrix, axis=1)"
   ]
  },
  {
   "cell_type": "code",
   "execution_count": 11,
   "metadata": {},
   "outputs": [
    {
     "data": {
      "text/plain": [
       "array([ 1,  2,  3,  4,  5,  6,  7,  8,  9, 10, 11, 12])"
      ]
     },
     "execution_count": 11,
     "metadata": {},
     "output_type": "execute_result"
    }
   ],
   "source": [
    "#reshaping arrays\n",
    "matrix_reshape = np.array([[1, 2, 3],\n",
    "                   [4, 5, 6],\n",
    "                   [7, 8, 9],\n",
    "                   [10, 11, 12]])\n",
    "\n",
    "#single row\n",
    "matrix_reshape.reshape(1,12)\n",
    "\n",
    "#two rows\n",
    "matrix_reshape.reshape(2,6)\n",
    "\n",
    "#six rows\n",
    "matrix_reshape.reshape(6,2)\n",
    "\n",
    "#reshape to one dimension\n",
    "matrix_reshape.reshape(12)"
   ]
  },
  {
   "cell_type": "code",
   "execution_count": 12,
   "metadata": {},
   "outputs": [
    {
     "data": {
      "text/plain": [
       "array([[1],\n",
       "       [2],\n",
       "       [3],\n",
       "       [4],\n",
       "       [5],\n",
       "       [6]])"
      ]
     },
     "execution_count": 12,
     "metadata": {},
     "output_type": "execute_result"
    }
   ],
   "source": [
    "#Transposing\n",
    "transpose_matrix = np.array([[2,4,6],\n",
    "                            [8,10,12],\n",
    "                            [14,16,18]])\n",
    "\n",
    "np.transpose(transpose_matrix)\n",
    "\n",
    "\n",
    "# Transposing is a common operation in linear algebra where the column and row indices of each element are swapped. \n",
    "# One nuanced point that is typically overlooked outside of a linear algebra class is that, \n",
    "# technically, a vector cannot be transposed because it is just a collection of values:\n",
    "\n",
    "#cant transpose\n",
    "np.array([1,2,3,4,5,6]).T\n",
    "\n",
    "#can transpose\n",
    "np.array([[1,2,3,4,5,6]]).T"
   ]
  },
  {
   "cell_type": "code",
   "execution_count": 13,
   "metadata": {},
   "outputs": [
    {
     "data": {
      "text/plain": [
       "array([ 1,  1,  2,  3,  5,  8, 13, 21, 34])"
      ]
     },
     "execution_count": 13,
     "metadata": {},
     "output_type": "execute_result"
    }
   ],
   "source": [
    "#Flattening matrix\n",
    "flatten_matrix = np.array([[1,1,2],\n",
    "                          [3,5,8],\n",
    "                          [13,21,34]])\n",
    "\n",
    "flatten_matrix.flatten()"
   ]
  },
  {
   "cell_type": "code",
   "execution_count": 29,
   "metadata": {},
   "outputs": [
    {
     "data": {
      "text/plain": [
       "matrix([[0, 0, 0],\n",
       "        [2, 2, 0],\n",
       "        [1, 1, 2]])"
      ]
     },
     "execution_count": 29,
     "metadata": {},
     "output_type": "execute_result"
    }
   ],
   "source": [
    "#randomize matrix\n",
    "rank_matrix = np.matrix(np.random.randint(0,3, size=(3, 3)))\n",
    "rank_matrix"
   ]
  },
  {
   "cell_type": "code",
   "execution_count": 30,
   "metadata": {},
   "outputs": [
    {
     "data": {
      "text/plain": [
       "2"
      ]
     },
     "execution_count": 30,
     "metadata": {},
     "output_type": "execute_result"
    }
   ],
   "source": [
    "#rank the matrix\n",
    "# The rank of a matrix is the dimensions of the vector space spanned by its columns or rows.\n",
    "np.linalg.matrix_rank(rank_matrix)"
   ]
  },
  {
   "cell_type": "code",
   "execution_count": 41,
   "metadata": {},
   "outputs": [
    {
     "data": {
      "text/plain": [
       "23.999999999999993"
      ]
     },
     "execution_count": 41,
     "metadata": {},
     "output_type": "execute_result"
    }
   ],
   "source": [
    "#calculate determinant\n",
    "#The determinant of a linear transformation measures how much areas/volumes change during the transformation.\n",
    "deter_matrix = np.matrix(np.random.randint(0,5, size=(3, 3)))\n",
    "np.linalg.det(deter_matrix)\n"
   ]
  },
  {
   "cell_type": "code",
   "execution_count": 54,
   "metadata": {},
   "outputs": [
    {
     "data": {
      "text/plain": [
       "matrix([[4, 3, 4]])"
      ]
     },
     "execution_count": 54,
     "metadata": {},
     "output_type": "execute_result"
    }
   ],
   "source": [
    "#get the diagonal of a matrix\n",
    "diagonal_martix = np.matrix(np.random.randint(1,10, size=(3, 3)))\n",
    "diagonal_martix.diagonal()"
   ]
  },
  {
   "cell_type": "code",
   "execution_count": 55,
   "metadata": {},
   "outputs": [
    {
     "data": {
      "text/plain": [
       "matrix([[9, 5]])"
      ]
     },
     "execution_count": 55,
     "metadata": {},
     "output_type": "execute_result"
    }
   ],
   "source": [
    "#diagonal with offset\n",
    "diagonal_martix.diagonal(offset=1)"
   ]
  },
  {
   "cell_type": "code",
   "execution_count": 56,
   "metadata": {},
   "outputs": [
    {
     "data": {
      "text/plain": [
       "matrix([[11]])"
      ]
     },
     "execution_count": 56,
     "metadata": {},
     "output_type": "execute_result"
    }
   ],
   "source": [
    "#matrix trace \n",
    "# sum of the diagonal values, possible with offset\n",
    "diagonal_martix.trace()"
   ]
  },
  {
   "cell_type": "code",
   "execution_count": 58,
   "metadata": {},
   "outputs": [
    {
     "data": {
      "text/plain": [
       "matrix([[3, 7, 3],\n",
       "        [2, 4, 2],\n",
       "        [1, 5, 1]])"
      ]
     },
     "execution_count": 58,
     "metadata": {},
     "output_type": "execute_result"
    }
   ],
   "source": [
    "#Find the eigenvalues and eigenvectors of a square matrix \n",
    "eigen_matrix = np.matrix(np.random.randint(1,10,size=(3,3)))\n",
    "\n",
    "eigen_matrix"
   ]
  },
  {
   "cell_type": "code",
   "execution_count": 61,
   "metadata": {},
   "outputs": [
    {
     "data": {
      "text/plain": [
       "array([[-0.23197069, -0.78583024,  0.40824829],\n",
       "       [-0.52532209, -0.08675134, -0.81649658],\n",
       "       [-0.8186735 ,  0.61232756,  0.40824829]])"
      ]
     },
     "execution_count": 61,
     "metadata": {},
     "output_type": "execute_result"
    }
   ],
   "source": [
    "#calculate values and vectors\n",
    "eigenvalues, eigenvectors = np.linalg.eig(matrix)\n",
    "eigenvalues\n",
    "eigenvectors"
   ]
  },
  {
   "cell_type": "code",
   "execution_count": 63,
   "metadata": {},
   "outputs": [
    {
     "data": {
      "text/plain": [
       "330"
      ]
     },
     "execution_count": 63,
     "metadata": {},
     "output_type": "execute_result"
    }
   ],
   "source": [
    "#dot plots\n",
    "vector_a = np.array([1,2,3,4])\n",
    "vector_b = np.array([11,22,33,44])\n",
    "np.dot(vector_a, vector_b)\n",
    "\n",
    "#or python 3.5+ \n",
    "vector_a @ vector_b"
   ]
  },
  {
   "cell_type": "code",
   "execution_count": 68,
   "metadata": {},
   "outputs": [
    {
     "data": {
      "text/plain": [
       "array([0.09090909, 0.09090909, 0.09090909, 0.09090909])"
      ]
     },
     "execution_count": 68,
     "metadata": {},
     "output_type": "execute_result"
    }
   ],
   "source": [
    "#add, substract, multi, divide matrix\n",
    "vector_a + vector_b\n",
    "\n",
    "vector_a - vector_b\n",
    "\n",
    "vector_a * vector_b\n",
    "\n",
    "vector_a / vector_b"
   ]
  },
  {
   "cell_type": "code",
   "execution_count": 77,
   "metadata": {},
   "outputs": [
    {
     "data": {
      "text/plain": [
       "matrix([[2, 1, 4],\n",
       "        [7, 9, 1],\n",
       "        [6, 6, 1]])"
      ]
     },
     "execution_count": 77,
     "metadata": {},
     "output_type": "execute_result"
    }
   ],
   "source": [
    "# invert matrix \n",
    "invert_matrix = np.matrix(np.random.randint(1,10,size=(3,3)))\n",
    "invert_matrix"
   ]
  },
  {
   "cell_type": "code",
   "execution_count": 78,
   "metadata": {},
   "outputs": [
    {
     "data": {
      "text/plain": [
       "matrix([[-0.06976744, -0.53488372,  0.81395349],\n",
       "        [ 0.02325581,  0.51162791, -0.60465116],\n",
       "        [ 0.27906977,  0.13953488, -0.25581395]])"
      ]
     },
     "execution_count": 78,
     "metadata": {},
     "output_type": "execute_result"
    }
   ],
   "source": [
    "np.linalg.inv(invert_matrix)"
   ]
  },
  {
   "cell_type": "code",
   "execution_count": null,
   "metadata": {},
   "outputs": [],
   "source": []
  }
 ],
 "metadata": {
  "kernelspec": {
   "display_name": "Python 3",
   "language": "python",
   "name": "python3"
  },
  "language_info": {
   "codemirror_mode": {
    "name": "ipython",
    "version": 3
   },
   "file_extension": ".py",
   "mimetype": "text/x-python",
   "name": "python",
   "nbconvert_exporter": "python",
   "pygments_lexer": "ipython3",
   "version": "3.6.0"
  }
 },
 "nbformat": 4,
 "nbformat_minor": 2
}
